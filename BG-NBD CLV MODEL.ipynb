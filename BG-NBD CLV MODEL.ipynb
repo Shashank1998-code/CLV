{
 "cells": [
  {
   "cell_type": "code",
   "execution_count": 2,
   "id": "c9dc9a83",
   "metadata": {},
   "outputs": [
    {
     "name": "stdout",
     "output_type": "stream",
     "text": [
      "Collecting lifetimes\n",
      "  Downloading Lifetimes-0.11.3-py3-none-any.whl (584 kB)\n",
      "Requirement already satisfied: scipy>=1.0.0 in c:\\users\\shash\\anaconda3\\lib\\site-packages (from lifetimes) (1.7.3)\n",
      "Collecting autograd>=1.2.0\n",
      "  Downloading autograd-1.6.2-py3-none-any.whl (49 kB)\n",
      "Requirement already satisfied: pandas>=0.24.0 in c:\\users\\shash\\anaconda3\\lib\\site-packages (from lifetimes) (1.5.3)\n",
      "Requirement already satisfied: numpy>=1.10.0 in c:\\users\\shash\\anaconda3\\lib\\site-packages (from lifetimes) (1.21.5)\n",
      "Collecting dill>=0.2.6\n",
      "  Downloading dill-0.3.6-py3-none-any.whl (110 kB)\n",
      "Requirement already satisfied: future>=0.15.2 in c:\\users\\shash\\anaconda3\\lib\\site-packages (from autograd>=1.2.0->lifetimes) (0.18.2)\n",
      "Requirement already satisfied: pytz>=2020.1 in c:\\users\\shash\\anaconda3\\lib\\site-packages (from pandas>=0.24.0->lifetimes) (2022.7.1)\n",
      "Requirement already satisfied: python-dateutil>=2.8.1 in c:\\users\\shash\\anaconda3\\lib\\site-packages (from pandas>=0.24.0->lifetimes) (2.8.2)\n",
      "Requirement already satisfied: six>=1.5 in c:\\users\\shash\\anaconda3\\lib\\site-packages (from python-dateutil>=2.8.1->pandas>=0.24.0->lifetimes) (1.16.0)\n",
      "Installing collected packages: dill, autograd, lifetimes\n",
      "Successfully installed autograd-1.6.2 dill-0.3.6 lifetimes-0.11.3\n"
     ]
    }
   ],
   "source": [
    "!pip install lifetimes"
   ]
  },
  {
   "cell_type": "markdown",
   "id": "98499258",
   "metadata": {},
   "source": [
    "## LOAD AND READ DATA"
   ]
  },
  {
   "cell_type": "code",
   "execution_count": 3,
   "id": "788733ff",
   "metadata": {},
   "outputs": [],
   "source": [
    "import pandas as pd\n",
    "from lifetimes.datasets import load_dataset"
   ]
  },
  {
   "cell_type": "code",
   "execution_count": 4,
   "id": "6d3f294d",
   "metadata": {},
   "outputs": [],
   "source": [
    "transactions = load_dataset(\n",
    "    filename='CDNOW_sample.txt', \n",
    "    header=None, \n",
    "    delim_whitespace=True, \n",
    "    names=['customer_id', 'customer_index', 'date', 'quantity', 'amount'],\n",
    "    converters={'date': lambda x: pd.to_datetime(x, format=\"%Y%m%d\")}\n",
    ")"
   ]
  },
  {
   "cell_type": "code",
   "execution_count": 5,
   "id": "1e397c08",
   "metadata": {},
   "outputs": [
    {
     "data": {
      "text/html": [
       "<div>\n",
       "<style scoped>\n",
       "    .dataframe tbody tr th:only-of-type {\n",
       "        vertical-align: middle;\n",
       "    }\n",
       "\n",
       "    .dataframe tbody tr th {\n",
       "        vertical-align: top;\n",
       "    }\n",
       "\n",
       "    .dataframe thead th {\n",
       "        text-align: right;\n",
       "    }\n",
       "</style>\n",
       "<table border=\"1\" class=\"dataframe\">\n",
       "  <thead>\n",
       "    <tr style=\"text-align: right;\">\n",
       "      <th></th>\n",
       "      <th>customer_id</th>\n",
       "      <th>customer_index</th>\n",
       "      <th>date</th>\n",
       "      <th>quantity</th>\n",
       "      <th>amount</th>\n",
       "    </tr>\n",
       "  </thead>\n",
       "  <tbody>\n",
       "    <tr>\n",
       "      <th>0</th>\n",
       "      <td>4</td>\n",
       "      <td>1</td>\n",
       "      <td>1997-01-01</td>\n",
       "      <td>2</td>\n",
       "      <td>29.33</td>\n",
       "    </tr>\n",
       "    <tr>\n",
       "      <th>1</th>\n",
       "      <td>4</td>\n",
       "      <td>1</td>\n",
       "      <td>1997-01-18</td>\n",
       "      <td>2</td>\n",
       "      <td>29.73</td>\n",
       "    </tr>\n",
       "    <tr>\n",
       "      <th>2</th>\n",
       "      <td>4</td>\n",
       "      <td>1</td>\n",
       "      <td>1997-08-02</td>\n",
       "      <td>1</td>\n",
       "      <td>14.96</td>\n",
       "    </tr>\n",
       "    <tr>\n",
       "      <th>3</th>\n",
       "      <td>4</td>\n",
       "      <td>1</td>\n",
       "      <td>1997-12-12</td>\n",
       "      <td>2</td>\n",
       "      <td>26.48</td>\n",
       "    </tr>\n",
       "    <tr>\n",
       "      <th>4</th>\n",
       "      <td>21</td>\n",
       "      <td>2</td>\n",
       "      <td>1997-01-01</td>\n",
       "      <td>3</td>\n",
       "      <td>63.34</td>\n",
       "    </tr>\n",
       "  </tbody>\n",
       "</table>\n",
       "</div>"
      ],
      "text/plain": [
       "   customer_id  customer_index       date  quantity  amount\n",
       "0            4               1 1997-01-01         2   29.33\n",
       "1            4               1 1997-01-18         2   29.73\n",
       "2            4               1 1997-08-02         1   14.96\n",
       "3            4               1 1997-12-12         2   26.48\n",
       "4           21               2 1997-01-01         3   63.34"
      ]
     },
     "execution_count": 5,
     "metadata": {},
     "output_type": "execute_result"
    }
   ],
   "source": [
    "transactions.head()"
   ]
  },
  {
   "cell_type": "markdown",
   "id": "c8f85db7",
   "metadata": {},
   "source": [
    "## CONVERT TO RFM"
   ]
  },
  {
   "cell_type": "markdown",
   "id": "d3a37482",
   "metadata": {},
   "source": [
    "Before fitting the BG-NBD model, we need to first restructure this table to the canonical “RFM” format. A table in the RFM format has rows that represent individual customers and the following columns:\n",
    "\n",
    "frequency, which represents the number of repeat purchases the customer has made.\n",
    "recency, which represents the “age” of the customer when they made their most recent purchases.\n",
    "T, which represents the “age” of the customer at the end of the observation period.\n",
    "monetary_value, an optional column which represents the average value of a given customer’s purchases, excluding the first purchase."
   ]
  },
  {
   "cell_type": "code",
   "execution_count": 6,
   "id": "81d2200b",
   "metadata": {},
   "outputs": [],
   "source": [
    "from lifetimes.utils import summary_data_from_transaction_data\n",
    "\n",
    "rfm = summary_data_from_transaction_data(transactions=transactions,\n",
    "                                         customer_id_col='customer_id',\n",
    "                                         datetime_col='date',\n",
    "                                         monetary_value_col = 'amount',\n",
    "                                         observation_period_end=pd.to_datetime('1998-06-30'),\n",
    "                                         freq='W')"
   ]
  },
  {
   "cell_type": "code",
   "execution_count": 7,
   "id": "5b025708",
   "metadata": {},
   "outputs": [
    {
     "data": {
      "text/html": [
       "<div>\n",
       "<style scoped>\n",
       "    .dataframe tbody tr th:only-of-type {\n",
       "        vertical-align: middle;\n",
       "    }\n",
       "\n",
       "    .dataframe tbody tr th {\n",
       "        vertical-align: top;\n",
       "    }\n",
       "\n",
       "    .dataframe thead th {\n",
       "        text-align: right;\n",
       "    }\n",
       "</style>\n",
       "<table border=\"1\" class=\"dataframe\">\n",
       "  <thead>\n",
       "    <tr style=\"text-align: right;\">\n",
       "      <th></th>\n",
       "      <th>frequency</th>\n",
       "      <th>recency</th>\n",
       "      <th>T</th>\n",
       "      <th>monetary_value</th>\n",
       "    </tr>\n",
       "    <tr>\n",
       "      <th>customer_id</th>\n",
       "      <th></th>\n",
       "      <th></th>\n",
       "      <th></th>\n",
       "      <th></th>\n",
       "    </tr>\n",
       "  </thead>\n",
       "  <tbody>\n",
       "    <tr>\n",
       "      <th>4</th>\n",
       "      <td>3.0</td>\n",
       "      <td>49.0</td>\n",
       "      <td>78.0</td>\n",
       "      <td>23.723333</td>\n",
       "    </tr>\n",
       "    <tr>\n",
       "      <th>18</th>\n",
       "      <td>0.0</td>\n",
       "      <td>0.0</td>\n",
       "      <td>78.0</td>\n",
       "      <td>0.000000</td>\n",
       "    </tr>\n",
       "    <tr>\n",
       "      <th>21</th>\n",
       "      <td>1.0</td>\n",
       "      <td>2.0</td>\n",
       "      <td>78.0</td>\n",
       "      <td>11.770000</td>\n",
       "    </tr>\n",
       "  </tbody>\n",
       "</table>\n",
       "</div>"
      ],
      "text/plain": [
       "             frequency  recency     T  monetary_value\n",
       "customer_id                                          \n",
       "4                  3.0     49.0  78.0       23.723333\n",
       "18                 0.0      0.0  78.0        0.000000\n",
       "21                 1.0      2.0  78.0       11.770000"
      ]
     },
     "execution_count": 7,
     "metadata": {},
     "output_type": "execute_result"
    }
   ],
   "source": [
    "rfm.head(3)"
   ]
  },
  {
   "cell_type": "markdown",
   "id": "bd964130",
   "metadata": {},
   "source": [
    "## Calibration-holdout split"
   ]
  },
  {
   "cell_type": "code",
   "execution_count": 8,
   "id": "657da6ce",
   "metadata": {},
   "outputs": [],
   "source": [
    "from lifetimes.utils import calibration_and_holdout_data\n",
    "\n",
    "rfm_cal_holdout = calibration_and_holdout_data(transactions=transactions,\n",
    "                                               customer_id_col='customer_id', \n",
    "                                               datetime_col='date',\n",
    "                                               monetary_value_col = 'amount',\n",
    "                                               freq='W',\n",
    "                                               calibration_period_end='1998-01-01',\n",
    "                                               observation_period_end='1998-06-30' )"
   ]
  },
  {
   "cell_type": "code",
   "execution_count": 9,
   "id": "1aadfc82",
   "metadata": {},
   "outputs": [
    {
     "data": {
      "text/html": [
       "<div>\n",
       "<style scoped>\n",
       "    .dataframe tbody tr th:only-of-type {\n",
       "        vertical-align: middle;\n",
       "    }\n",
       "\n",
       "    .dataframe tbody tr th {\n",
       "        vertical-align: top;\n",
       "    }\n",
       "\n",
       "    .dataframe thead th {\n",
       "        text-align: right;\n",
       "    }\n",
       "</style>\n",
       "<table border=\"1\" class=\"dataframe\">\n",
       "  <thead>\n",
       "    <tr style=\"text-align: right;\">\n",
       "      <th></th>\n",
       "      <th>frequency_cal</th>\n",
       "      <th>recency_cal</th>\n",
       "      <th>T_cal</th>\n",
       "      <th>monetary_value_cal</th>\n",
       "      <th>frequency_holdout</th>\n",
       "      <th>monetary_value_holdout</th>\n",
       "      <th>duration_holdout</th>\n",
       "    </tr>\n",
       "    <tr>\n",
       "      <th>customer_id</th>\n",
       "      <th></th>\n",
       "      <th></th>\n",
       "      <th></th>\n",
       "      <th></th>\n",
       "      <th></th>\n",
       "      <th></th>\n",
       "      <th></th>\n",
       "    </tr>\n",
       "  </thead>\n",
       "  <tbody>\n",
       "    <tr>\n",
       "      <th>4</th>\n",
       "      <td>3.0</td>\n",
       "      <td>49.0</td>\n",
       "      <td>52.0</td>\n",
       "      <td>23.723333</td>\n",
       "      <td>0.0</td>\n",
       "      <td>0.0</td>\n",
       "      <td>26.0</td>\n",
       "    </tr>\n",
       "    <tr>\n",
       "      <th>18</th>\n",
       "      <td>0.0</td>\n",
       "      <td>0.0</td>\n",
       "      <td>52.0</td>\n",
       "      <td>0.000000</td>\n",
       "      <td>0.0</td>\n",
       "      <td>0.0</td>\n",
       "      <td>26.0</td>\n",
       "    </tr>\n",
       "    <tr>\n",
       "      <th>21</th>\n",
       "      <td>1.0</td>\n",
       "      <td>2.0</td>\n",
       "      <td>52.0</td>\n",
       "      <td>11.770000</td>\n",
       "      <td>0.0</td>\n",
       "      <td>0.0</td>\n",
       "      <td>26.0</td>\n",
       "    </tr>\n",
       "  </tbody>\n",
       "</table>\n",
       "</div>"
      ],
      "text/plain": [
       "             frequency_cal  recency_cal  T_cal  monetary_value_cal  \\\n",
       "customer_id                                                          \n",
       "4                      3.0         49.0   52.0           23.723333   \n",
       "18                     0.0          0.0   52.0            0.000000   \n",
       "21                     1.0          2.0   52.0           11.770000   \n",
       "\n",
       "             frequency_holdout  monetary_value_holdout  duration_holdout  \n",
       "customer_id                                                               \n",
       "4                          0.0                     0.0              26.0  \n",
       "18                         0.0                     0.0              26.0  \n",
       "21                         0.0                     0.0              26.0  "
      ]
     },
     "execution_count": 9,
     "metadata": {},
     "output_type": "execute_result"
    }
   ],
   "source": [
    "rfm_cal_holdout.head(3)"
   ]
  },
  {
   "cell_type": "markdown",
   "id": "0438bc2f",
   "metadata": {},
   "source": [
    "## Training, Prediction and Evaluation"
   ]
  },
  {
   "cell_type": "markdown",
   "id": "ad93522e",
   "metadata": {},
   "source": [
    "#FIT THE MODEL"
   ]
  },
  {
   "cell_type": "code",
   "execution_count": 10,
   "id": "b193144b",
   "metadata": {},
   "outputs": [
    {
     "data": {
      "text/plain": [
       "<lifetimes.BetaGeoFitter: fitted with 2357 subjects, a: 0.53, alpha: 6.73, b: 1.97, r: 0.28>"
      ]
     },
     "execution_count": 10,
     "metadata": {},
     "output_type": "execute_result"
    }
   ],
   "source": [
    "from lifetimes import BetaGeoFitter\n",
    "\n",
    "# instantiation of BG-NBD model\n",
    "bgf = BetaGeoFitter(penalizer_coef=0.0)\n",
    "\n",
    "# fitting of BG-NBD model\n",
    "bgf.fit(frequency=rfm_cal_holdout['frequency_cal'], \n",
    "        recency=rfm_cal_holdout['recency_cal'], \n",
    "        T=rfm_cal_holdout['T_cal'])"
   ]
  },
  {
   "cell_type": "code",
   "execution_count": 12,
   "id": "6ef6f998",
   "metadata": {},
   "outputs": [
    {
     "data": {
      "text/html": [
       "<div>\n",
       "<style scoped>\n",
       "    .dataframe tbody tr th:only-of-type {\n",
       "        vertical-align: middle;\n",
       "    }\n",
       "\n",
       "    .dataframe tbody tr th {\n",
       "        vertical-align: top;\n",
       "    }\n",
       "\n",
       "    .dataframe thead th {\n",
       "        text-align: right;\n",
       "    }\n",
       "</style>\n",
       "<table border=\"1\" class=\"dataframe\">\n",
       "  <thead>\n",
       "    <tr style=\"text-align: right;\">\n",
       "      <th></th>\n",
       "      <th>coef</th>\n",
       "      <th>se(coef)</th>\n",
       "      <th>lower 95% bound</th>\n",
       "      <th>upper 95% bound</th>\n",
       "    </tr>\n",
       "  </thead>\n",
       "  <tbody>\n",
       "    <tr>\n",
       "      <th>r</th>\n",
       "      <td>0.281847</td>\n",
       "      <td>0.014034</td>\n",
       "      <td>0.254340</td>\n",
       "      <td>0.309354</td>\n",
       "    </tr>\n",
       "    <tr>\n",
       "      <th>alpha</th>\n",
       "      <td>6.732810</td>\n",
       "      <td>0.532304</td>\n",
       "      <td>5.689494</td>\n",
       "      <td>7.776126</td>\n",
       "    </tr>\n",
       "    <tr>\n",
       "      <th>a</th>\n",
       "      <td>0.532360</td>\n",
       "      <td>0.122632</td>\n",
       "      <td>0.292000</td>\n",
       "      <td>0.772719</td>\n",
       "    </tr>\n",
       "    <tr>\n",
       "      <th>b</th>\n",
       "      <td>1.971260</td>\n",
       "      <td>0.575322</td>\n",
       "      <td>0.843628</td>\n",
       "      <td>3.098892</td>\n",
       "    </tr>\n",
       "  </tbody>\n",
       "</table>\n",
       "</div>"
      ],
      "text/plain": [
       "           coef  se(coef)  lower 95% bound  upper 95% bound\n",
       "r      0.281847  0.014034         0.254340         0.309354\n",
       "alpha  6.732810  0.532304         5.689494         7.776126\n",
       "a      0.532360  0.122632         0.292000         0.772719\n",
       "b      1.971260  0.575322         0.843628         3.098892"
      ]
     },
     "execution_count": 12,
     "metadata": {},
     "output_type": "execute_result"
    }
   ],
   "source": [
    "bgf.summary"
   ]
  },
  {
   "cell_type": "code",
   "execution_count": 13,
   "id": "d7a5fb2d",
   "metadata": {},
   "outputs": [
    {
     "data": {
      "image/png": "[encoded data removed]",
      "text/plain": [
       "<Figure size 432x288 with 1 Axes>"
      ]
     },
     "metadata": {
      "needs_background": "light"
     },
     "output_type": "display_data"
    }
   ],
   "source": [
    "from lifetimes.plotting import plot_period_transactions\n",
    "\n",
    "_ = plot_period_transactions(bgf) "
   ]
  },
  {
   "cell_type": "markdown",
   "id": "e739fecf",
   "metadata": {},
   "source": [
    "## Making a Prediction"
   ]
  },
  {
   "cell_type": "code",
   "execution_count": 14,
   "id": "fa858bfc",
   "metadata": {},
   "outputs": [
    {
     "data": {
      "text/plain": [
       "frequency_cal              3.000000\n",
       "recency_cal               28.000000\n",
       "T_cal                     52.000000\n",
       "monetary_value_cal        25.076667\n",
       "frequency_holdout          2.000000\n",
       "monetary_value_holdout    29.480000\n",
       "duration_holdout          26.000000\n",
       "Name: 226, dtype: float64"
      ]
     },
     "execution_count": 14,
     "metadata": {},
     "output_type": "execute_result"
    }
   ],
   "source": [
    "# First, we choose a sample customer. \n",
    "sample_customer = rfm_cal_holdout.iloc[20] \n",
    "\n",
    "# Let's inspect his frequency, recency and T both for the calibration and observation periods:\n",
    "sample_customer"
   ]
  },
  {
   "cell_type": "code",
   "execution_count": 15,
   "id": "e15f3c29",
   "metadata": {},
   "outputs": [
    {
     "data": {
      "text/plain": [
       "0.7647440846242523"
      ]
     },
     "execution_count": 15,
     "metadata": {},
     "output_type": "execute_result"
    }
   ],
   "source": [
    "# This function calculates the conditional expected number of transactions in the given time length\n",
    "n_transactions_pred = bgf.predict(t=26, # we set it to 26 weeks (the length of the observation period)\n",
    "                                  frequency=sample_customer['frequency_cal'], \n",
    "                                  recency=sample_customer['recency_cal'], \n",
    "                                  T=sample_customer['T_cal'])\n",
    "\n",
    "n_transactions_pred # = 0.7647440846242359"
   ]
  },
  {
   "cell_type": "code",
   "execution_count": 16,
   "id": "8a28a8f4",
   "metadata": {},
   "outputs": [
    {
     "data": {
      "text/plain": [
       "array([0.57089896])"
      ]
     },
     "execution_count": 16,
     "metadata": {},
     "output_type": "execute_result"
    }
   ],
   "source": [
    "alive_prob = bgf.conditional_probability_alive(frequency=sample_customer['frequency_cal'], \n",
    "                                               recency=sample_customer['recency_cal'], \n",
    "                                               T=sample_customer['T_cal'])\n",
    "\n",
    "alive_prob # = 0.57089896"
   ]
  },
  {
   "cell_type": "markdown",
   "id": "b9bbfce9",
   "metadata": {},
   "source": [
    "## Comparison of real and predicted number of transactions"
   ]
  },
  {
   "cell_type": "code",
   "execution_count": 17,
   "id": "13939240",
   "metadata": {},
   "outputs": [
    {
     "data": {
      "text/html": [
       "<div>\n",
       "<style scoped>\n",
       "    .dataframe tbody tr th:only-of-type {\n",
       "        vertical-align: middle;\n",
       "    }\n",
       "\n",
       "    .dataframe tbody tr th {\n",
       "        vertical-align: top;\n",
       "    }\n",
       "\n",
       "    .dataframe thead th {\n",
       "        text-align: right;\n",
       "    }\n",
       "</style>\n",
       "<table border=\"1\" class=\"dataframe\">\n",
       "  <thead>\n",
       "    <tr style=\"text-align: right;\">\n",
       "      <th></th>\n",
       "      <th>n_transactions_holdout_real</th>\n",
       "      <th>n_transactions_holdout_pred</th>\n",
       "    </tr>\n",
       "    <tr>\n",
       "      <th>customer_id</th>\n",
       "      <th></th>\n",
       "      <th></th>\n",
       "    </tr>\n",
       "  </thead>\n",
       "  <tbody>\n",
       "    <tr>\n",
       "      <th>4</th>\n",
       "      <td>1.0</td>\n",
       "      <td>1.155554</td>\n",
       "    </tr>\n",
       "    <tr>\n",
       "      <th>18</th>\n",
       "      <td>1.0</td>\n",
       "      <td>0.118167</td>\n",
       "    </tr>\n",
       "    <tr>\n",
       "      <th>21</th>\n",
       "      <td>1.0</td>\n",
       "      <td>0.128974</td>\n",
       "    </tr>\n",
       "    <tr>\n",
       "      <th>50</th>\n",
       "      <td>1.0</td>\n",
       "      <td>0.118167</td>\n",
       "    </tr>\n",
       "    <tr>\n",
       "      <th>60</th>\n",
       "      <td>1.0</td>\n",
       "      <td>0.126350</td>\n",
       "    </tr>\n",
       "  </tbody>\n",
       "</table>\n",
       "</div>"
      ],
      "text/plain": [
       "             n_transactions_holdout_real  n_transactions_holdout_pred\n",
       "customer_id                                                          \n",
       "4                                    1.0                     1.155554\n",
       "18                                   1.0                     0.118167\n",
       "21                                   1.0                     0.128974\n",
       "50                                   1.0                     0.118167\n",
       "60                                   1.0                     0.126350"
      ]
     },
     "execution_count": 17,
     "metadata": {},
     "output_type": "execute_result"
    }
   ],
   "source": [
    "# the real number of transactions in the observation period, which equals frequency_holdout + 1\n",
    "rfm_cal_holdout[\"n_transactions_holdout_real\"]  = rfm_cal_holdout[\"frequency_holdout\"] + 1\n",
    "\n",
    "# the predicted number of transactions in the next 26 weeks (length of the observation period)\n",
    "rfm_cal_holdout[\"n_transactions_holdout_pred\"] = bgf.predict(t=26, \n",
    "                                                    frequency=rfm_cal_holdout['frequency_cal'], \n",
    "                                                    recency=rfm_cal_holdout['recency_cal'], \n",
    "                                                    T=rfm_cal_holdout['T_cal'])\n",
    "\n",
    "# comparison of the real and predicted transactions\n",
    "rfm_cal_holdout[[\"n_transactions_holdout_real\", \"n_transactions_holdout_pred\"]].head()"
   ]
  },
  {
   "cell_type": "code",
   "execution_count": 18,
   "id": "92115ab6",
   "metadata": {},
   "outputs": [
    {
     "data": {
      "text/plain": [
       "1.3536793286520972"
      ]
     },
     "execution_count": 18,
     "metadata": {},
     "output_type": "execute_result"
    }
   ],
   "source": [
    "from sklearn.metrics import mean_squared_error\n",
    "\n",
    "RMSE = mean_squared_error(y_true = rfm_cal_holdout[\"n_transactions_holdout_real\"],\n",
    "                          y_pred = rfm_cal_holdout[\"n_transactions_holdout_pred\"],\n",
    "                          squared = False)\n",
    "\n",
    "RMSE # = 1.3536793286521"
   ]
  },
  {
   "cell_type": "markdown",
   "id": "cf25712e",
   "metadata": {},
   "source": [
    "## Visualizing the MLE Gamma and Beta distributions"
   ]
  },
  {
   "cell_type": "code",
   "execution_count": 19,
   "id": "051c1e8d",
   "metadata": {},
   "outputs": [
    {
     "data": {
      "image/png": "[encoded data removed]",
      "text/plain": [
       "<Figure size 1440x1152 with 2 Axes>"
      ]
     },
     "metadata": {
      "needs_background": "light"
     },
     "output_type": "display_data"
    }
   ],
   "source": [
    "import numpy as np\n",
    "import scipy.stats as stats\n",
    "from matplotlib import pyplot as plt\n",
    "\n",
    "fig, (ax_gamma, ax_beta) = plt.subplots(ncols=1, nrows =2, figsize = (20, 16))\n",
    "\n",
    "x_gamma = np.linspace(0, 10, 1000)\n",
    "y_gamma = stats.gamma.pdf(x_gamma, a=bgf.params_[\"alpha\"], scale=bgf.params_[\"r\"])\n",
    "ax_gamma.plot(x_gamma, y_gamma, \"-\")\n",
    "ax_gamma.set_title(f'Gamma distribution (alpha = {bgf.params_[\"alpha\"]:.2f}, scale (r)  = {bgf.params_[\"r\"]:.2f})')\n",
    "ax_gamma.set_xlabel(r'$\\lambda$')\n",
    "ax_gamma.set_ylabel(r'$P(\\lambda)$')\n",
    "\n",
    "\n",
    "x_beta = np.linspace(0, 1, 100)\n",
    "y_beta = stats.beta.pdf(x_beta, a=bgf.params_[\"a\"], b=bgf.params_[\"b\"])\n",
    "ax_beta.plot(x_beta, y_beta, \"-\")\n",
    "ax_beta.set_title(f'Beta distribution (a = {bgf.params_[\"a\"]:.2f}, b  = {bgf.params_[\"b\"]:.2f})')\n",
    "ax_beta.set_xlabel('p')\n",
    "ax_beta.set_ylabel('P(p)')\n",
    "plt.show()"
   ]
  },
  {
   "cell_type": "markdown",
   "id": "839b37e3",
   "metadata": {},
   "source": [
    "## Frequency/Recency/Future Purchases Matrix"
   ]
  },
  {
   "cell_type": "code",
   "execution_count": 20,
   "id": "f622d971",
   "metadata": {},
   "outputs": [
    {
     "data": {
      "image/png": "[encoded data removed]",
      "text/plain": [
       "<Figure size 432x288 with 2 Axes>"
      ]
     },
     "metadata": {
      "needs_background": "light"
     },
     "output_type": "display_data"
    }
   ],
   "source": [
    "from lifetimes.plotting import plot_frequency_recency_matrix\n",
    "\n",
    "_ = plot_frequency_recency_matrix(bgf)"
   ]
  },
  {
   "cell_type": "markdown",
   "id": "b15a1448",
   "metadata": {},
   "source": [
    "## Frequency/Recency/Probability Alive Matrix"
   ]
  },
  {
   "cell_type": "code",
   "execution_count": 21,
   "id": "baac2561",
   "metadata": {},
   "outputs": [
    {
     "data": {
      "image/png": "[encoded data removed]",
      "text/plain": [
       "<Figure size 432x288 with 2 Axes>"
      ]
     },
     "metadata": {
      "needs_background": "light"
     },
     "output_type": "display_data"
    }
   ],
   "source": [
    "from lifetimes.plotting import plot_probability_alive_matrix\n",
    "\n",
    "_ = plot_probability_alive_matrix(bgf)"
   ]
  },
  {
   "cell_type": "markdown",
   "id": "590773a2",
   "metadata": {},
   "source": [
    "## CLV estimation using BG-NBD"
   ]
  },
  {
   "cell_type": "code",
   "execution_count": 22,
   "id": "1da43954",
   "metadata": {},
   "outputs": [
    {
     "data": {
      "text/html": [
       "<div>\n",
       "<style scoped>\n",
       "    .dataframe tbody tr th:only-of-type {\n",
       "        vertical-align: middle;\n",
       "    }\n",
       "\n",
       "    .dataframe tbody tr th {\n",
       "        vertical-align: top;\n",
       "    }\n",
       "\n",
       "    .dataframe thead th {\n",
       "        text-align: right;\n",
       "    }\n",
       "</style>\n",
       "<table border=\"1\" class=\"dataframe\">\n",
       "  <thead>\n",
       "    <tr style=\"text-align: right;\">\n",
       "      <th></th>\n",
       "      <th>value_10_pred</th>\n",
       "      <th>alive_prob</th>\n",
       "      <th>n_transactions_10_pred</th>\n",
       "      <th>monetary_value_cal</th>\n",
       "    </tr>\n",
       "    <tr>\n",
       "      <th>customer_id</th>\n",
       "      <th></th>\n",
       "      <th></th>\n",
       "      <th></th>\n",
       "      <th></th>\n",
       "    </tr>\n",
       "  </thead>\n",
       "  <tbody>\n",
       "    <tr>\n",
       "      <th>4</th>\n",
       "      <td>9.53934</td>\n",
       "      <td>0.862647</td>\n",
       "      <td>0.466132</td>\n",
       "      <td>23.723333</td>\n",
       "    </tr>\n",
       "    <tr>\n",
       "      <th>18</th>\n",
       "      <td>0.00000</td>\n",
       "      <td>1.000000</td>\n",
       "      <td>0.046933</td>\n",
       "      <td>0.000000</td>\n",
       "    </tr>\n",
       "    <tr>\n",
       "      <th>21</th>\n",
       "      <td>0.14799</td>\n",
       "      <td>0.243428</td>\n",
       "      <td>0.051652</td>\n",
       "      <td>11.770000</td>\n",
       "    </tr>\n",
       "    <tr>\n",
       "      <th>50</th>\n",
       "      <td>0.00000</td>\n",
       "      <td>1.000000</td>\n",
       "      <td>0.046933</td>\n",
       "      <td>0.000000</td>\n",
       "    </tr>\n",
       "    <tr>\n",
       "      <th>60</th>\n",
       "      <td>0.00000</td>\n",
       "      <td>1.000000</td>\n",
       "      <td>0.050285</td>\n",
       "      <td>0.000000</td>\n",
       "    </tr>\n",
       "  </tbody>\n",
       "</table>\n",
       "</div>"
      ],
      "text/plain": [
       "             value_10_pred  alive_prob  n_transactions_10_pred  \\\n",
       "customer_id                                                      \n",
       "4                  9.53934    0.862647                0.466132   \n",
       "18                 0.00000    1.000000                0.046933   \n",
       "21                 0.14799    0.243428                0.051652   \n",
       "50                 0.00000    1.000000                0.046933   \n",
       "60                 0.00000    1.000000                0.050285   \n",
       "\n",
       "             monetary_value_cal  \n",
       "customer_id                      \n",
       "4                     23.723333  \n",
       "18                     0.000000  \n",
       "21                    11.770000  \n",
       "50                     0.000000  \n",
       "60                     0.000000  "
      ]
     },
     "execution_count": 22,
     "metadata": {},
     "output_type": "execute_result"
    }
   ],
   "source": [
    "# the predicted number of transactions in the next 10 weeks\n",
    "rfm_cal_holdout[\"n_transactions_10_pred\"] = bgf.predict(t=10, \n",
    "                                                        frequency=rfm_cal_holdout['frequency_cal'], \n",
    "                                                        recency=rfm_cal_holdout['recency_cal'], \n",
    "                                                        T=rfm_cal_holdout['T_cal'])\n",
    "\n",
    "# the probability of being alive\n",
    "rfm_cal_holdout[\"alive_prob\"] = bgf.conditional_probability_alive(frequency=rfm_cal_holdout['frequency_cal'], \n",
    "                                                                  recency=rfm_cal_holdout['recency_cal'], \n",
    "                                                                  T=rfm_cal_holdout['T_cal'])\n",
    "\n",
    "\n",
    "# multiplication of alive probability x number of purchases x average past purchase\n",
    "rfm_cal_holdout[\"value_10_pred\"] = rfm_cal_holdout[\"alive_prob\"]* \\\n",
    "                                   rfm_cal_holdout[\"n_transactions_10_pred\"]*\\\n",
    "                                   rfm_cal_holdout[\"monetary_value_cal\"]\n",
    "                                   \n",
    "                                     \n",
    "rfm_cal_holdout[[\"value_10_pred\", \"alive_prob\", \"n_transactions_10_pred\", \"monetary_value_cal\"]].head()\n"
   ]
  },
  {
   "cell_type": "code",
   "execution_count": 23,
   "id": "cdf69c70",
   "metadata": {},
   "outputs": [
    {
     "data": {
      "text/plain": [
       "count    2357.000000\n",
       "mean        5.178024\n",
       "std        16.195977\n",
       "min         0.000000\n",
       "25%         0.000000\n",
       "50%         0.000000\n",
       "75%         2.453662\n",
       "max       213.484909\n",
       "Name: value_10_pred, dtype: float64"
      ]
     },
     "execution_count": 23,
     "metadata": {},
     "output_type": "execute_result"
    }
   ],
   "source": [
    "rfm_cal_holdout[\"value_10_pred\"].describe()"
   ]
  },
  {
   "cell_type": "code",
   "execution_count": 24,
   "id": "b28e079a",
   "metadata": {},
   "outputs": [
    {
     "data": {
      "image/png": "[encoded data removed]",
      "text/plain": [
       "<Figure size 864x504 with 1 Axes>"
      ]
     },
     "metadata": {
      "needs_background": "light"
     },
     "output_type": "display_data"
    }
   ],
   "source": [
    "import seaborn as sns \n",
    "\n",
    "fig, ax = plt.subplots(figsize = (12, 7))\n",
    "ax = sns.histplot(rfm_cal_holdout[\"value_10_pred\"], \n",
    "                  kde=False, \n",
    "                  binwidth = 2)\n",
    "ax.set_title(f'Customer value histogram')\n",
    "ax.set_xlabel(r'Customer value estimate for 10 periods ($)')\n",
    "ax.set_ylabel(r'Number of customers in each bin')\n",
    "ax.set_xlim(-2,20)\n",
    "\n",
    "plt.show()"
   ]
  },
  {
   "cell_type": "markdown",
   "id": "52831789",
   "metadata": {},
   "source": [
    "## Proactive intervention"
   ]
  },
  {
   "cell_type": "code",
   "execution_count": 25,
   "id": "775363ea",
   "metadata": {},
   "outputs": [
    {
     "data": {
      "text/html": [
       "<div>\n",
       "<style scoped>\n",
       "    .dataframe tbody tr th:only-of-type {\n",
       "        vertical-align: middle;\n",
       "    }\n",
       "\n",
       "    .dataframe tbody tr th {\n",
       "        vertical-align: top;\n",
       "    }\n",
       "\n",
       "    .dataframe thead th {\n",
       "        text-align: right;\n",
       "    }\n",
       "</style>\n",
       "<table border=\"1\" class=\"dataframe\">\n",
       "  <thead>\n",
       "    <tr style=\"text-align: right;\">\n",
       "      <th></th>\n",
       "      <th>value_10_pred</th>\n",
       "    </tr>\n",
       "    <tr>\n",
       "      <th>customer_id</th>\n",
       "      <th></th>\n",
       "    </tr>\n",
       "  </thead>\n",
       "  <tbody>\n",
       "    <tr>\n",
       "      <th>111</th>\n",
       "      <td>94.006160</td>\n",
       "    </tr>\n",
       "    <tr>\n",
       "      <th>133</th>\n",
       "      <td>22.670743</td>\n",
       "    </tr>\n",
       "    <tr>\n",
       "      <th>166</th>\n",
       "      <td>15.338678</td>\n",
       "    </tr>\n",
       "    <tr>\n",
       "      <th>167</th>\n",
       "      <td>22.797245</td>\n",
       "    </tr>\n",
       "    <tr>\n",
       "      <th>228</th>\n",
       "      <td>43.224262</td>\n",
       "    </tr>\n",
       "    <tr>\n",
       "      <th>...</th>\n",
       "      <td>...</td>\n",
       "    </tr>\n",
       "    <tr>\n",
       "      <th>23498</th>\n",
       "      <td>30.545742</td>\n",
       "    </tr>\n",
       "    <tr>\n",
       "      <th>23500</th>\n",
       "      <td>11.031599</td>\n",
       "    </tr>\n",
       "    <tr>\n",
       "      <th>23507</th>\n",
       "      <td>21.082439</td>\n",
       "    </tr>\n",
       "    <tr>\n",
       "      <th>23551</th>\n",
       "      <td>14.729419</td>\n",
       "    </tr>\n",
       "    <tr>\n",
       "      <th>23556</th>\n",
       "      <td>13.132849</td>\n",
       "    </tr>\n",
       "  </tbody>\n",
       "</table>\n",
       "<p>300 rows × 1 columns</p>\n",
       "</div>"
      ],
      "text/plain": [
       "             value_10_pred\n",
       "customer_id               \n",
       "111              94.006160\n",
       "133              22.670743\n",
       "166              15.338678\n",
       "167              22.797245\n",
       "228              43.224262\n",
       "...                    ...\n",
       "23498            30.545742\n",
       "23500            11.031599\n",
       "23507            21.082439\n",
       "23551            14.729419\n",
       "23556            13.132849\n",
       "\n",
       "[300 rows x 1 columns]"
      ]
     },
     "execution_count": 25,
     "metadata": {},
     "output_type": "execute_result"
    }
   ],
   "source": [
    "VALUE_10_PRED_THRESHOLD = 10\n",
    "\n",
    "# filtering for high-value customers\n",
    "rfm_cal_holdout.loc[rfm_cal_holdout[\"value_10_pred\"]>VALUE_10_PRED_THRESHOLD, [\"value_10_pred\"]]"
   ]
  }
 ],
 "metadata": {
  "kernelspec": {
   "display_name": "Python 3 (ipykernel)",
   "language": "python",
   "name": "python3"
  },
  "language_info": {
   "codemirror_mode": {
    "name": "ipython",
    "version": 3
   },
   "file_extension": ".py",
   "mimetype": "text/x-python",
   "name": "python",
   "nbconvert_exporter": "python",
   "pygments_lexer": "ipython3",
   "version": "3.9.12"
  }
 },
 "nbformat": 4,
 "nbformat_minor": 5
}
